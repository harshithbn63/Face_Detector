{
 "cells": [
  {
   "cell_type": "code",
   "execution_count": null,
   "metadata": {},
   "outputs": [],
   "source": [
    "pip install dlib"
   ]
  },
  {
   "cell_type": "code",
   "execution_count": null,
   "metadata": {},
   "outputs": [],
   "source": [
    "# Import required libraries \n",
    "import cv2 \n",
    "import numpy as np \n",
    "import dlib \n",
    "  \n",
    "  \n",
    "# Connects to your computer's default camera \n",
    "cap = cv2.VideoCapture(0) \n",
    "  \n",
    "  \n",
    "# Detect the coordinates \n",
    "detector = dlib.get_frontal_face_detector() \n",
    "  \n",
    "  \n",
    "# Capture frames continuously \n",
    "while True: \n",
    "  \n",
    "    # Capture frame-by-frame \n",
    "    ret, frame = cap.read() \n",
    "    frame = cv2.flip(frame, 1) \n",
    "  \n",
    "    # RGB to grayscale \n",
    "    gray = cv2.cvtColor(frame, cv2.COLOR_BGR2GRAY) \n",
    "    faces = detector(gray) \n",
    "  \n",
    "    # Iterator to count faces \n",
    "    i = 0\n",
    "    for face in faces: \n",
    "  \n",
    "        # Get the coordinates of faces \n",
    "        x, y = face.left(), face.top() \n",
    "        x1, y1 = face.right(), face.bottom() \n",
    "        cv2.rectangle(frame, (x, y), (x1, y1), (0, 255, 0), 2) \n",
    "  \n",
    "        # Increment iterator for each face in faces \n",
    "        i = i+1\n",
    "  \n",
    "        # Display the box and faces \n",
    "        cv2.putText(frame, 'face num'+str(i), (x-10, y-10), \n",
    "                    cv2.FONT_HERSHEY_SIMPLEX, 0.7, (0, 0, 255), 2) \n",
    "        print(face, i) \n",
    "  \n",
    "    # Display the resulting frame \n",
    "    cv2.imshow('frame', frame) \n",
    "  \n",
    "    # This command let's us quit with the \"q\" button on a keyboard. \n",
    "    if cv2.waitKey(1) & 0xFF == ord('q'): \n",
    "        break\n",
    "  \n",
    "  \n",
    "# Release the capture and destroy the windows \n",
    "cap.release() \n",
    "cv2.destroyAllWindows() "
   ]
  }
 ],
 "metadata": {
  "kernelspec": {
   "display_name": "Python 3",
   "language": "python",
   "name": "python3"
  },
  "language_info": {
   "codemirror_mode": {
    "name": "ipython",
    "version": 3
   },
   "file_extension": ".py",
   "mimetype": "text/x-python",
   "name": "python",
   "nbconvert_exporter": "python",
   "pygments_lexer": "ipython3",
   "version": "3.12.0"
  },
  "orig_nbformat": 4
 },
 "nbformat": 4,
 "nbformat_minor": 2
}
